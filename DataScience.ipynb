{
    "cells": [
        {
            "cell_type": "markdown",
            "metadata": {
                "collapsed": true,
                "id": "84c541ab-a991-4989-9815-4a55844c55ff",
                "jupyter": {
                    "outputs_hidden": true
                }
            },
            "source": "<h3>This program prints Hello, World!</h3>"
        },
        {
            "cell_type": "code",
            "execution_count": 1,
            "metadata": {
                "id": "90ee7c06-2ecd-426e-a6b3-92d74f6529b1"
            },
            "outputs": [
                {
                    "name": "stdout",
                    "output_type": "stream",
                    "text": "Hello, World!\n"
                }
            ],
            "source": "print('Hello, World!')"
        },
        {
            "cell_type": "code",
            "execution_count": 3,
            "metadata": {
                "id": "dd83f495-57ee-4452-aba0-b3a034783211"
            },
            "outputs": [
                {
                    "data": {
                        "text/html": "<div>\n<style scoped>\n    .dataframe tbody tr th:only-of-type {\n        vertical-align: middle;\n    }\n\n    .dataframe tbody tr th {\n        vertical-align: top;\n    }\n\n    .dataframe thead th {\n        text-align: right;\n    }\n</style>\n<table border=\"1\" class=\"dataframe\">\n  <thead>\n    <tr style=\"text-align: right;\">\n      <th></th>\n      <th>Trade ID</th>\n      <th>Fill time</th>\n      <th>Type</th>\n      <th>Instrument</th>\n      <th>Product</th>\n      <th>Qty.</th>\n      <th>Avg. Price</th>\n    </tr>\n  </thead>\n  <tbody>\n    <tr>\n      <th>0</th>\n      <td>4405793</td>\n      <td>2023-03-06 12:04:53</td>\n      <td>BUY</td>\n      <td>NIFTY2330917850CE</td>\n      <td>NRML</td>\n      <td>50</td>\n      <td>35.90</td>\n    </tr>\n    <tr>\n      <th>1</th>\n      <td>4395492</td>\n      <td>2023-03-06 12:03:49</td>\n      <td>SELL</td>\n      <td>NIFTY2330917850CE</td>\n      <td>NRML</td>\n      <td>50</td>\n      <td>36.15</td>\n    </tr>\n    <tr>\n      <th>2</th>\n      <td>89411016</td>\n      <td>2023-03-06 11:59:15</td>\n      <td>BUY</td>\n      <td>NIFTY2330917650PE</td>\n      <td>NRML</td>\n      <td>50</td>\n      <td>24.35</td>\n    </tr>\n    <tr>\n      <th>3</th>\n      <td>89397166</td>\n      <td>2023-03-06 11:57:17</td>\n      <td>SELL</td>\n      <td>NIFTY2330917650PE</td>\n      <td>NRML</td>\n      <td>50</td>\n      <td>25.00</td>\n    </tr>\n    <tr>\n      <th>4</th>\n      <td>4315920</td>\n      <td>2023-03-06 11:57:00</td>\n      <td>BUY</td>\n      <td>NIFTY2330917850CE</td>\n      <td>NRML</td>\n      <td>50</td>\n      <td>33.85</td>\n    </tr>\n    <tr>\n      <th>5</th>\n      <td>4296666</td>\n      <td>2023-03-06 11:54:46</td>\n      <td>SELL</td>\n      <td>NIFTY2330917850CE</td>\n      <td>NRML</td>\n      <td>50</td>\n      <td>34.20</td>\n    </tr>\n    <tr>\n      <th>6</th>\n      <td>4250415</td>\n      <td>2023-03-06 11:50:37</td>\n      <td>BUY</td>\n      <td>NIFTY2330917850CE</td>\n      <td>NRML</td>\n      <td>50</td>\n      <td>33.20</td>\n    </tr>\n    <tr>\n      <th>7</th>\n      <td>4237455</td>\n      <td>2023-03-06 11:48:47</td>\n      <td>SELL</td>\n      <td>NIFTY2330917850CE</td>\n      <td>NRML</td>\n      <td>50</td>\n      <td>33.10</td>\n    </tr>\n    <tr>\n      <th>8</th>\n      <td>4233202</td>\n      <td>2023-03-06 11:48:14</td>\n      <td>BUY</td>\n      <td>NIFTY2330917900CE</td>\n      <td>NRML</td>\n      <td>50</td>\n      <td>21.35</td>\n    </tr>\n    <tr>\n      <th>9</th>\n      <td>4228979</td>\n      <td>2023-03-06 11:47:48</td>\n      <td>BUY</td>\n      <td>NIFTY2330917850CE</td>\n      <td>NRML</td>\n      <td>50</td>\n      <td>33.40</td>\n    </tr>\n  </tbody>\n</table>\n</div>",
                        "text/plain": "   Trade ID            Fill time  Type         Instrument Product  Qty.  \\\n0   4405793  2023-03-06 12:04:53   BUY  NIFTY2330917850CE    NRML    50   \n1   4395492  2023-03-06 12:03:49  SELL  NIFTY2330917850CE    NRML    50   \n2  89411016  2023-03-06 11:59:15   BUY  NIFTY2330917650PE    NRML    50   \n3  89397166  2023-03-06 11:57:17  SELL  NIFTY2330917650PE    NRML    50   \n4   4315920  2023-03-06 11:57:00   BUY  NIFTY2330917850CE    NRML    50   \n5   4296666  2023-03-06 11:54:46  SELL  NIFTY2330917850CE    NRML    50   \n6   4250415  2023-03-06 11:50:37   BUY  NIFTY2330917850CE    NRML    50   \n7   4237455  2023-03-06 11:48:47  SELL  NIFTY2330917850CE    NRML    50   \n8   4233202  2023-03-06 11:48:14   BUY  NIFTY2330917900CE    NRML    50   \n9   4228979  2023-03-06 11:47:48   BUY  NIFTY2330917850CE    NRML    50   \n\n   Avg. Price  \n0       35.90  \n1       36.15  \n2       24.35  \n3       25.00  \n4       33.85  \n5       34.20  \n6       33.20  \n7       33.10  \n8       21.35  \n9       33.40  "
                    },
                    "execution_count": 3,
                    "metadata": {},
                    "output_type": "execute_result"
                }
            ],
            "source": "# The code was removed by Watson Studio for sharing."
        },
        {
            "cell_type": "code",
            "execution_count": null,
            "metadata": {
                "id": "3604c94a-4abf-4aa3-8764-6b2a09009f3b"
            },
            "outputs": [],
            "source": ""
        }
    ],
    "metadata": {
        "kernelspec": {
            "display_name": "Python 3.11",
            "language": "python",
            "name": "python3"
        },
        "language_info": {
            "codemirror_mode": {
                "name": "ipython",
                "version": 3
            },
            "file_extension": ".py",
            "mimetype": "text/x-python",
            "name": "python",
            "nbconvert_exporter": "python",
            "pygments_lexer": "ipython3",
            "version": "3.11.9"
        }
    },
    "nbformat": 4,
    "nbformat_minor": 4
}